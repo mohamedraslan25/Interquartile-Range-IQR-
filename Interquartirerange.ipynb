{
 "cells": [
  {
   "cell_type": "markdown",
   "id": "868004d5",
   "metadata": {},
   "source": [
    "<hr>\n",
    "<div style=\"border: 5px solid #86B6F6; padding: 5px; background-color: #176B87; text-align: center; box-shadow: 0px 2px 4px rgba(0, 0, 0, 0.2);\">\n",
    "    <h1 style=\"color: #EEF5FF; text-shadow: 2px 2px 4px rgba(0, 0, 0, 0.5); font-weight: bold; margin-bottom: 15px; font-size: 40px;\">Interquartirerange <span style=\"font-size: larger;\"><BR>(IQR)</span></h1>\n",
    "</div>\n",
    "<hr>\n"
   ]
  },
  {
   "cell_type": "markdown",
   "id": "61af5cbf",
   "metadata": {},
   "source": [
    "### <span style=\"color: #092635; font-size: larger;\">Libraries:</span> <span style=\"color: #092635\">Import libraries that help me in implmentation</span>\n",
    "\n",
    "- **<span style=\"color: #092635; font-size: larger;\">1 - Pandas**</span> <span style=\"color: #003C43; font-size: larger;\"></span>\n",
    "- **<span style=\"color: #092635; font-size: larger;\">2 - Numpy**</span> <span style=\"color: #003C43; font-size: larger;\"></span>\n",
    "- **<span style=\"color: #092635; font-size: larger;\">3 - Matplotlib(pyplot)** </span><span style=\"color: #003C43; font-size: larger;\"></span>\n",
    "- **<span style=\"color: #092635; font-size: larger;\">4 - Seaborn** </span><span style=\"color: #003C43; font-size: larger;\"></span>"
   ]
  },
  {
   "cell_type": "code",
   "execution_count": 1,
   "id": "32378c9c",
   "metadata": {},
   "outputs": [
    {
     "name": "stderr",
     "output_type": "stream",
     "text": [
      "C:\\Users\\scs\\anaconda3\\lib\\site-packages\\scipy\\__init__.py:146: UserWarning: A NumPy version >=1.16.5 and <1.23.0 is required for this version of SciPy (detected version 1.26.4\n",
      "  warnings.warn(f\"A NumPy version >={np_minversion} and <{np_maxversion}\"\n"
     ]
    }
   ],
   "source": [
    "import pandas as pd\n",
    "import numpy as np\n",
    "import matplotlib.pyplot as plt\n",
    "import seaborn as sns"
   ]
  },
  {
   "cell_type": "markdown",
   "id": "c4b76f59",
   "metadata": {},
   "source": [
    "### <span style=\"color: #092635; font-size: larger;\">Function:</span> <span style=\"color: #092635\">Function that calculate the interqurtirerange (IQR)</span>\n",
    "\n",
    "- **<span style=\"color: #092635; font-size: larger;\">1 - check the dataframe is valid or not**</span>\n",
    "- **<span style=\"color: #092635; font-size: larger;\">2 - convert the dataframe to array using numpy**</span>\n",
    "- **<span style=\"color: #092635; font-size: larger;\">3 - create opjects for defining the Q1, Q2** </span>\n",
    "- **<span style=\"color: #092635; font-size: larger;\">4 - calculate the IQR** </span>\n",
    "- **<span style=\"color: #092635; font-size: larger;\">5 - calculate the lower and upper boundries** </span>\n",
    "- **<span style=\"color: #092635; font-size: larger;\">6 - detect the outliers** </span>\n",
    "- **<span style=\"color: #092635; font-size: larger;\">7 - return the Q1, Q2, Q3, IQR, Lower Boundry, Upper Boundry, Outliers** </span>\n",
    "\n",
    "<summart> <h5><font size=\"3\" color=\"red\">NOTE!!!<BR> Q2 ===> SPLIT 50% OF DATAFRAME</h5> </summart>"
   ]
  },
  {
   "cell_type": "code",
   "execution_count": 2,
   "id": "8a422db3",
   "metadata": {},
   "outputs": [],
   "source": [
    "def calculate_iqr(data):\n",
    "    if not data:\n",
    "        raise ValueError(\"Data list cannot be empty\")\n",
    "    data = np.array(data)\n",
    "    Q1 = np.percentile(data, 25)\n",
    "    Q3 = np.percentile(data, 75)\n",
    "    IQR = Q3 - Q1    \n",
    "    lower_bound = Q1 - 1.5 * IQR\n",
    "    upper_bound = Q3 + 1.5 * IQR    \n",
    "    outliers = [x for x in data if x < lower_bound or x > upper_bound]    \n",
    "    return IQR, lower_bound, upper_bound, outliers, Q1, np.percentile(data, 50), Q3"
   ]
  },
  {
   "cell_type": "markdown",
   "id": "2da34fc6",
   "metadata": {},
   "source": [
    "### <span style=\"color: #092635; font-size: larger;\">Function:</span> <span style=\"color: #092635\">Function that remove outliers after detection them</span>\n",
    "\n",
    "- **<span style=\"color: #092635; font-size: larger;\">1 - return data that upper than lower boundary & lower than upper boundary**</span>\n",
    "<summart> <h5><font size=\"3\" color=\"red\">NOTE!!!<BR> the values of data that before the lower_bound & after the upper_bound are outliers</h5> </summart>"
   ]
  },
  {
   "cell_type": "code",
   "execution_count": 3,
   "id": "704945e4",
   "metadata": {},
   "outputs": [],
   "source": [
    "def remove_outliers(data, lower_bound, upper_bound):\n",
    "    return [x for x in data if lower_bound <= x <= upper_bound]"
   ]
  },
  {
   "cell_type": "markdown",
   "id": "ea5007d7",
   "metadata": {},
   "source": [
    "### <span style=\"color: #092635; font-size: larger;\">Data:</span> <span style=\"color: #092635\">Define the data that implment the method of it</span>"
   ]
  },
  {
   "cell_type": "code",
   "execution_count": 4,
   "id": "eb4b3264",
   "metadata": {},
   "outputs": [],
   "source": [
    "df = [1,2,2,3,6,5,8,4,8,6,9,4,8,-8,20]"
   ]
  },
  {
   "cell_type": "markdown",
   "id": "42e872a3",
   "metadata": {},
   "source": [
    "### <span style=\"color: #092635; font-size: larger;\">Variables:</span> <span style=\"color: #092635\">Define the variables that returns after implment the method 'calculate_iqr'</span>"
   ]
  },
  {
   "cell_type": "code",
   "execution_count": 5,
   "id": "0e5dd812",
   "metadata": {},
   "outputs": [],
   "source": [
    "iqr, lower_bound, upper_bound, outliers, Q1, Q2, Q3 = calculate_iqr(df)"
   ]
  },
  {
   "cell_type": "markdown",
   "id": "99c5f7a2",
   "metadata": {},
   "source": [
    "### <span style=\"color: #092635; font-size: larger;\">Print:</span> <span style=\"color: #092635\">print this variables</span>"
   ]
  },
  {
   "cell_type": "code",
   "execution_count": 6,
   "id": "b3aaa23d",
   "metadata": {},
   "outputs": [
    {
     "name": "stdout",
     "output_type": "stream",
     "text": [
      "Data: [1, 2, 2, 3, 6, 5, 8, 4, 8, 6, 9, 4, 8, -8, 20]\n",
      "Q1: 2.5\n",
      "Q2: 5.0\n",
      "Q3: 8.0\n",
      "Interquartile range (IQR): 5.5\n",
      "The Lower Bound for Outliers is: -5.75\n",
      "The Upper Bound for Outliers is: 16.25\n",
      "The Outliers are: [-8, 20]\n"
     ]
    }
   ],
   "source": [
    "print(f'Data: {df}')\n",
    "print(f'Q1: {Q1}')\n",
    "print(f'Q2: {Q2}')\n",
    "print(f'Q3: {Q3}')\n",
    "print(f'Interquartile range (IQR): {iqr}')\n",
    "print(f'The Lower Bound for Outliers is: {lower_bound}')\n",
    "print(f'The Upper Bound for Outliers is: {upper_bound}')\n",
    "print(f'The Outliers are: {outliers}')"
   ]
  },
  {
   "cell_type": "markdown",
   "id": "f92c16ec",
   "metadata": {},
   "source": [
    "### <span style=\"color: #092635; font-size: larger;\">Define:</span> <span style=\"color: #092635\">Define the outliers that returns after implment the method 'remove_outliers'</span>"
   ]
  },
  {
   "cell_type": "code",
   "execution_count": 7,
   "id": "126e8c12",
   "metadata": {},
   "outputs": [],
   "source": [
    "cleaned_data = remove_outliers(df, lower_bound, upper_bound)"
   ]
  },
  {
   "cell_type": "markdown",
   "id": "1bc1ae4e",
   "metadata": {},
   "source": [
    "### <span style=\"color: #092635; font-size: larger;\">Print:</span> <span style=\"color: #092635\">print cleaned data</span>\n",
    "<summart> <h5><font size=\"3\" color=\"red\">NOTE!!!<BR> cleaned data is'nt containing the outlier values</h5> </summart>"
   ]
  },
  {
   "cell_type": "code",
   "execution_count": 8,
   "id": "ee591959",
   "metadata": {},
   "outputs": [
    {
     "data": {
      "text/plain": [
       "[1, 2, 2, 3, 6, 5, 8, 4, 8, 6, 9, 4, 8]"
      ]
     },
     "execution_count": 8,
     "metadata": {},
     "output_type": "execute_result"
    }
   ],
   "source": [
    "cleaned_data"
   ]
  },
  {
   "cell_type": "markdown",
   "id": "f2937e38",
   "metadata": {},
   "source": [
    "- **<span style=\"color: #092635; font-size: larger;\">1 - detect the columns for data & cleaned data**</span>\n",
    "- **<span style=\"color: #092635; font-size: larger;\">2 - convert the arrays of data with outliers(complete data) & the arrays of data without outliers to dataframes**</span>\n",
    "- **<span style=\"color: #092635; font-size: larger;\">3 - adding the two dataframes for each other to become one dataframe** </span>"
   ]
  },
  {
   "cell_type": "code",
   "execution_count": 9,
   "id": "16d7f27a",
   "metadata": {},
   "outputs": [],
   "source": [
    "data_with_outliers = {'Data': df, 'Type': 'With Outliers'}\n",
    "data_without_outliers = {'Data': cleaned_data, 'Type': 'Without Outliers'}\n",
    "df_with_outliers = pd.DataFrame(data_with_outliers)\n",
    "df_without_outliers = pd.DataFrame(data_without_outliers)\n",
    "df = pd.concat([df_with_outliers, df_without_outliers], ignore_index=True)"
   ]
  },
  {
   "cell_type": "code",
   "execution_count": 10,
   "id": "00b42bbd",
   "metadata": {},
   "outputs": [
    {
     "data": {
      "text/html": [
       "<div>\n",
       "<style scoped>\n",
       "    .dataframe tbody tr th:only-of-type {\n",
       "        vertical-align: middle;\n",
       "    }\n",
       "\n",
       "    .dataframe tbody tr th {\n",
       "        vertical-align: top;\n",
       "    }\n",
       "\n",
       "    .dataframe thead th {\n",
       "        text-align: right;\n",
       "    }\n",
       "</style>\n",
       "<table border=\"1\" class=\"dataframe\">\n",
       "  <thead>\n",
       "    <tr style=\"text-align: right;\">\n",
       "      <th></th>\n",
       "      <th>Data</th>\n",
       "      <th>Type</th>\n",
       "    </tr>\n",
       "  </thead>\n",
       "  <tbody>\n",
       "    <tr>\n",
       "      <th>0</th>\n",
       "      <td>1</td>\n",
       "      <td>With Outliers</td>\n",
       "    </tr>\n",
       "    <tr>\n",
       "      <th>1</th>\n",
       "      <td>2</td>\n",
       "      <td>With Outliers</td>\n",
       "    </tr>\n",
       "    <tr>\n",
       "      <th>2</th>\n",
       "      <td>2</td>\n",
       "      <td>With Outliers</td>\n",
       "    </tr>\n",
       "    <tr>\n",
       "      <th>3</th>\n",
       "      <td>3</td>\n",
       "      <td>With Outliers</td>\n",
       "    </tr>\n",
       "    <tr>\n",
       "      <th>4</th>\n",
       "      <td>6</td>\n",
       "      <td>With Outliers</td>\n",
       "    </tr>\n",
       "    <tr>\n",
       "      <th>5</th>\n",
       "      <td>5</td>\n",
       "      <td>With Outliers</td>\n",
       "    </tr>\n",
       "    <tr>\n",
       "      <th>6</th>\n",
       "      <td>8</td>\n",
       "      <td>With Outliers</td>\n",
       "    </tr>\n",
       "    <tr>\n",
       "      <th>7</th>\n",
       "      <td>4</td>\n",
       "      <td>With Outliers</td>\n",
       "    </tr>\n",
       "    <tr>\n",
       "      <th>8</th>\n",
       "      <td>8</td>\n",
       "      <td>With Outliers</td>\n",
       "    </tr>\n",
       "    <tr>\n",
       "      <th>9</th>\n",
       "      <td>6</td>\n",
       "      <td>With Outliers</td>\n",
       "    </tr>\n",
       "    <tr>\n",
       "      <th>10</th>\n",
       "      <td>9</td>\n",
       "      <td>With Outliers</td>\n",
       "    </tr>\n",
       "    <tr>\n",
       "      <th>11</th>\n",
       "      <td>4</td>\n",
       "      <td>With Outliers</td>\n",
       "    </tr>\n",
       "    <tr>\n",
       "      <th>12</th>\n",
       "      <td>8</td>\n",
       "      <td>With Outliers</td>\n",
       "    </tr>\n",
       "    <tr>\n",
       "      <th>13</th>\n",
       "      <td>-8</td>\n",
       "      <td>With Outliers</td>\n",
       "    </tr>\n",
       "    <tr>\n",
       "      <th>14</th>\n",
       "      <td>20</td>\n",
       "      <td>With Outliers</td>\n",
       "    </tr>\n",
       "    <tr>\n",
       "      <th>15</th>\n",
       "      <td>1</td>\n",
       "      <td>Without Outliers</td>\n",
       "    </tr>\n",
       "    <tr>\n",
       "      <th>16</th>\n",
       "      <td>2</td>\n",
       "      <td>Without Outliers</td>\n",
       "    </tr>\n",
       "    <tr>\n",
       "      <th>17</th>\n",
       "      <td>2</td>\n",
       "      <td>Without Outliers</td>\n",
       "    </tr>\n",
       "    <tr>\n",
       "      <th>18</th>\n",
       "      <td>3</td>\n",
       "      <td>Without Outliers</td>\n",
       "    </tr>\n",
       "    <tr>\n",
       "      <th>19</th>\n",
       "      <td>6</td>\n",
       "      <td>Without Outliers</td>\n",
       "    </tr>\n",
       "    <tr>\n",
       "      <th>20</th>\n",
       "      <td>5</td>\n",
       "      <td>Without Outliers</td>\n",
       "    </tr>\n",
       "    <tr>\n",
       "      <th>21</th>\n",
       "      <td>8</td>\n",
       "      <td>Without Outliers</td>\n",
       "    </tr>\n",
       "    <tr>\n",
       "      <th>22</th>\n",
       "      <td>4</td>\n",
       "      <td>Without Outliers</td>\n",
       "    </tr>\n",
       "    <tr>\n",
       "      <th>23</th>\n",
       "      <td>8</td>\n",
       "      <td>Without Outliers</td>\n",
       "    </tr>\n",
       "    <tr>\n",
       "      <th>24</th>\n",
       "      <td>6</td>\n",
       "      <td>Without Outliers</td>\n",
       "    </tr>\n",
       "    <tr>\n",
       "      <th>25</th>\n",
       "      <td>9</td>\n",
       "      <td>Without Outliers</td>\n",
       "    </tr>\n",
       "    <tr>\n",
       "      <th>26</th>\n",
       "      <td>4</td>\n",
       "      <td>Without Outliers</td>\n",
       "    </tr>\n",
       "    <tr>\n",
       "      <th>27</th>\n",
       "      <td>8</td>\n",
       "      <td>Without Outliers</td>\n",
       "    </tr>\n",
       "  </tbody>\n",
       "</table>\n",
       "</div>"
      ],
      "text/plain": [
       "    Data              Type\n",
       "0      1     With Outliers\n",
       "1      2     With Outliers\n",
       "2      2     With Outliers\n",
       "3      3     With Outliers\n",
       "4      6     With Outliers\n",
       "5      5     With Outliers\n",
       "6      8     With Outliers\n",
       "7      4     With Outliers\n",
       "8      8     With Outliers\n",
       "9      6     With Outliers\n",
       "10     9     With Outliers\n",
       "11     4     With Outliers\n",
       "12     8     With Outliers\n",
       "13    -8     With Outliers\n",
       "14    20     With Outliers\n",
       "15     1  Without Outliers\n",
       "16     2  Without Outliers\n",
       "17     2  Without Outliers\n",
       "18     3  Without Outliers\n",
       "19     6  Without Outliers\n",
       "20     5  Without Outliers\n",
       "21     8  Without Outliers\n",
       "22     4  Without Outliers\n",
       "23     8  Without Outliers\n",
       "24     6  Without Outliers\n",
       "25     9  Without Outliers\n",
       "26     4  Without Outliers\n",
       "27     8  Without Outliers"
      ]
     },
     "execution_count": 10,
     "metadata": {},
     "output_type": "execute_result"
    }
   ],
   "source": [
    "df"
   ]
  },
  {
   "cell_type": "markdown",
   "id": "14daa50c",
   "metadata": {},
   "source": [
    "### <span style=\"color: #092635; font-size: larger;\">Visualization:</span> <span style=\"color: #092635\">plot boxplot before and after dropping the outliers with detection for Q1, Q2, Q3'</span>"
   ]
  },
  {
   "cell_type": "code",
   "execution_count": 11,
   "id": "a2f9b9c1",
   "metadata": {},
   "outputs": [
    {
     "data": {
      "image/png": "[encoded data removed]",
      "text/plain": [
       "<Figure size 1008x576 with 1 Axes>"
      ]
     },
     "metadata": {
      "needs_background": "light"
     },
     "output_type": "display_data"
    }
   ],
   "source": [
    "plt.figure(figsize=(14, 8))\n",
    "sns.set(style=\"whitegrid\")\n",
    "palette = sns.color_palette(\"Set2\")\n",
    "ax = sns.boxplot(x='Type', y='Data', data=df, palette=palette)\n",
    "ax.set_title('Box Plot Comparison', fontsize=20, pad=20)\n",
    "ax.set_xlabel('Data Type', fontsize=15, labelpad=15)\n",
    "ax.set_ylabel('Values', fontsize=15, labelpad=15)\n",
    "for i, type_label in enumerate(['With Outliers', 'Without Outliers']):\n",
    "    y = [Q1, Q2, Q3]\n",
    "    for j, value in enumerate(y):\n",
    "        ax.text(i, value, f'Q{j+1}: {value:.2f}', \n",
    "                horizontalalignment='center', \n",
    "                verticalalignment='center',\n",
    "                fontsize=12,\n",
    "                color='black',\n",
    "                bbox=dict(facecolor='white', edgecolor='black', boxstyle='round,pad=0.5'))\n",
    "sns.despine(offset=10, trim=True)\n",
    "ax.grid(True, linestyle='--', alpha=0.7)\n",
    "plt.tight_layout()\n",
    "plt.show()"
   ]
  }
 ],
 "metadata": {
  "kernelspec": {
   "display_name": "Python 3 (ipykernel)",
   "language": "python",
   "name": "python3"
  },
  "language_info": {
   "codemirror_mode": {
    "name": "ipython",
    "version": 3
   },
   "file_extension": ".py",
   "mimetype": "text/x-python",
   "name": "python",
   "nbconvert_exporter": "python",
   "pygments_lexer": "ipython3",
   "version": "3.9.12"
  }
 },
 "nbformat": 4,
 "nbformat_minor": 5
}
